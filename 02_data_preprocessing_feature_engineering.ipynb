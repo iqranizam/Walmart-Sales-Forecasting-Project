import pandas as pd
import numpy as np

# Load datasets
train = pd.read_csv('data/train.csv', parse_dates=['Date'])
features = pd.read_csv('data/features.csv', parse_dates=['Date'])

# Merge train and features
df = train.merge(features, on=['Store', 'Date'], how='left')

# Handle missing values in MarkDown columns
for i in range(1, 6):
    col = f'MarkDown{i}'
    if col in df.columns:
        df[col].fillna(0, inplace=True)
    else:
        df[col] = 0

# Convert IsHoliday to int
df['IsHoliday'] = df['IsHoliday'].astype(bool).astype(int)

# Extract date features
df['WeekOfYear'] = df['Date'].dt.isocalendar().week.astype(int)
df['Month'] = df['Date'].dt.month
df['Year'] = df['Date'].dt.year
df['DayOfWeek'] = df['Date'].dt.dayofweek

# Create lagged sales feature (previous week sales per store-dept)
df = df.sort_values(['Store', 'Dept', 'Date'])
df['Lag_1_Week_Sales'] = df.groupby(['Store', 'Dept'])['Weekly_Sales'].shift(1)
df['Lag_2_Week_Sales'] = df.groupby(['Store', 'Dept'])['Weekly_Sales'].shift(2)

# Fill NaNs in lagged features with 0
df['Lag_1_Week_Sales'].fillna(0, inplace=True)
df['Lag_2_Week_Sales'].fillna(0, inplace=True)

# Check dataframe info
print(df.info())
print(df.head())
