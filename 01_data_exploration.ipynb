import pandas as pd
import matplotlib.pyplot as plt
import seaborn as sns

# Load datasets
train = pd.read_csv('data/train.csv', parse_dates=['Date'])
features = pd.read_csv('data/features.csv', parse_dates=['Date'])
stores = pd.read_csv('data/stores.csv')

# Basic info
print("Train shape:", train.shape)
print("Features shape:", features.shape)
print("Stores shape:", stores.shape)

# Peek at data
display(train.head())
display(features.head())
display(stores.head())

# Total sales over time
train_grouped = train.groupby('Date')['Weekly_Sales'].sum().reset_index()

plt.figure(figsize=(12,6))
plt.plot(train_grouped['Date'], train_grouped['Weekly_Sales'])
plt.title('Total Weekly Sales Over Time')
plt.xlabel('Date')
plt.ylabel('Weekly Sales')
plt.xticks(rotation=45)
plt.show()

# Sales by store
store_sales = train.groupby('Store')['Weekly_Sales'].sum().sort_values(ascending=False)

plt.figure(figsize=(12,6))
store_sales.plot(kind='bar')
plt.title('Total Sales by Store')
plt.xlabel('Store')
plt.ylabel('Total Sales')
plt.show()

# Sales during holidays vs non-holidays
holiday_sales = train[train['IsHoliday'] == True].groupby('Date')['Weekly_Sales'].sum()
non_holiday_sales = train[train['IsHoliday'] == False].groupby('Date')['Weekly_Sales'].sum()

plt.figure(figsize=(12,6))
plt.plot(holiday_sales.index, holiday_sales.values, label='Holiday Sales', color='red')
plt.plot(non_holiday_sales.index, non_holiday_sales.values, label='Non-Holiday Sales', color='blue')
plt.title('Holiday vs Non-Holiday Sales')
plt.xlabel('Date')
plt.ylabel('Sales')
plt.legend()
plt.xticks(rotation=45)
plt.show()
