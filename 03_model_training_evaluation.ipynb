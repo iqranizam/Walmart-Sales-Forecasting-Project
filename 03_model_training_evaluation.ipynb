# 03_model_training_evaluation.ipynb

import pandas as pd
import numpy as np
from sklearn.model_selection import train_test_split
from sklearn.linear_model import LinearRegression
from sklearn.ensemble import RandomForestRegressor
import xgboost as xgb
from sklearn.metrics import mean_squared_error, mean_absolute_error

# Load preprocessed data
df = pd.read_csv('data/preprocessed_train.csv', parse_dates=['Date'])

# Filter features and target
feature_cols = ['Store', 'Dept', 'WeekOfYear', 'Month', 'Year', 'DayOfWeek', 
                'Temperature', 'Fuel_Price', 'CPI', 'Unemployment',
                'MarkDown1', 'MarkDown2', 'MarkDown3', 'MarkDown4', 'MarkDown5',
                'IsHoliday', 'Lag_1_Week_Sales', 'Lag_2_Week_Sales']

X = df[feature_cols]
y = df['Weekly_Sales']

# Split data chronologically (e.g., last 12 weeks as validation)
cutoff_date = df['Date'].max() - pd.Timedelta(weeks=12)
train_X = X[df['Date'] <= cutoff_date]
train_y = y[df['Date'] <= cutoff_date]
val_X = X[df['Date'] > cutoff_date]
val_y = y[df['Date'] > cutoff_date]

# Linear Regression
lr = LinearRegression()
lr.fit(train_X, train_y)
lr_preds = lr.predict(val_X)

rmse_lr = np.sqrt(mean_squared_error(val_y, lr_preds))
mae_lr = mean_absolute_error(val_y, lr_preds)
print(f"Linear Regression RMSE: {rmse_lr:.2f}, MAE: {mae_lr:.2f}")

# Random Forest Regressor
rf = RandomForestRegressor(n_estimators=100, random_state=42)
rf.fit(train_X, train_y)
rf_preds = rf.predict(val_X)

rmse_rf = np.sqrt(mean_squared_error(val_y, rf_preds))
mae_rf = mean_absolute_error(val_y, rf_preds)
print(f"Random Forest RMSE: {rmse_rf:.2f}, MAE: {mae_rf:.2f}")

# XGBoost Regressor
xg_reg = xgb.XGBRegressor(objective='reg:squarederror', n_estimators=100, random_state=42)
xg_reg.fit(train_X, train_y)
xgb_preds = xg_reg.predict(val_X)

rmse_xgb = np.sqrt(mean_squared_error(val_y, xgb_preds))
mae_xgb = mean_absolute_error(val_y, xgb_preds)
print(f"XGBoost RMSE: {rmse_xgb:.2f}, MAE: {mae_xgb:.2f}")

# Summarize results
results = {
    'Model': ['Linear Regression', 'Random Forest', 'XGBoost'],
    'RMSE': [rmse_lr, rmse_rf, rmse_xgb],
    'MAE': [mae_lr, mae_rf, mae_xgb],
}
results_df = pd.DataFrame(results)
print(results_df)
